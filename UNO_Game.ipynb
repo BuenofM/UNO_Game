{
 "cells": [
  {
   "cell_type": "code",
   "execution_count": 19,
   "metadata": {},
   "outputs": [],
   "source": [
    "# todo: define the main class that contains all functions \n",
    "import random\n",
    "draw_pile = list()\n",
    "deck = list()\n",
    "players = ['CPU', 'player'] \n",
    "player_cards = list()\n",
    "CPU_cards = list()"
   ]
  },
  {
   "cell_type": "code",
   "execution_count": 20,
   "metadata": {},
   "outputs": [
    {
     "data": {
      "text/plain": [
       "[('Red', '1'),\n",
       " ('Red', '2'),\n",
       " ('Red', '3'),\n",
       " ('Red', '4'),\n",
       " ('Red', '5'),\n",
       " ('Red', 'draw2'),\n",
       " ('Red', 'skip'),\n",
       " ('Blue', '1'),\n",
       " ('Blue', '2'),\n",
       " ('Blue', '3'),\n",
       " ('Blue', '4'),\n",
       " ('Blue', '5'),\n",
       " ('Blue', 'draw2'),\n",
       " ('Blue', 'skip'),\n",
       " ('Green', '1'),\n",
       " ('Green', '2'),\n",
       " ('Green', '3'),\n",
       " ('Green', '4'),\n",
       " ('Green', '5'),\n",
       " ('Green', 'draw2'),\n",
       " ('Green', 'skip'),\n",
       " ('Yellow', '1'),\n",
       " ('Yellow', '2'),\n",
       " ('Yellow', '3'),\n",
       " ('Yellow', '4'),\n",
       " ('Yellow', '5'),\n",
       " ('Yellow', 'draw2'),\n",
       " ('Yellow', 'skip')]"
      ]
     },
     "execution_count": 20,
     "metadata": {},
     "output_type": "execute_result"
    }
   ],
   "source": [
    "def init_deck():\n",
    "    colors = ['Red', 'Blue', 'Green', 'Yellow']\n",
    "    values = ['1', '2','3','4','5','draw2', 'skip']\n",
    "    for color in colors:\n",
    "        for value in values:\n",
    "            deck.append(tuple([color, value]))    \n",
    "    #random.shuffle(self.deck)\n",
    "    return deck\n",
    "init_deck()"
   ]
  },
  {
   "cell_type": "code",
   "execution_count": 21,
   "metadata": {},
   "outputs": [
    {
     "name": "stdout",
     "output_type": "stream",
     "text": [
      "player starts.\n"
     ]
    },
    {
     "data": {
      "text/plain": [
       "'player'"
      ]
     },
     "execution_count": 21,
     "metadata": {},
     "output_type": "execute_result"
    }
   ],
   "source": [
    "# return randomly the first player\n",
    "def first_player():\n",
    "    first_player = random.choice(players)\n",
    "    print(first_player, \"starts.\")\n",
    "    return first_player\n",
    "first_player()"
   ]
  },
  {
   "cell_type": "code",
   "execution_count": 22,
   "metadata": {},
   "outputs": [
    {
     "name": "stdout",
     "output_type": "stream",
     "text": [
      "player cards are:  [('Blue', '2'), ('Yellow', '4'), ('Green', 'skip')]\n",
      "CPU cards are:  [('Yellow', '3'), ('Green', '4'), ('Yellow', '2')]\n"
     ]
    }
   ],
   "source": [
    "# destribute cards to each player   \n",
    "def card_distribution(first_player):\n",
    "    global player_cards\n",
    "    global CPU_cards\n",
    "    \n",
    "    first_player_cards = random.sample(deck, 3)\n",
    "    for i in deck:\n",
    "        if i not in first_player_cards:\n",
    "            draw_pile.append(i)\n",
    "            #print(\"add card \", i, \"to draw pile\")\n",
    "\n",
    "\n",
    "    seconde_player_cards = random.sample(draw_pile, 3)\n",
    "    #remove all second player cards of draw pile\n",
    "    for i in seconde_player_cards:\n",
    "        draw_pile.remove(i)\n",
    "        #print(\"remove card \", i, \"from draw pile\")\n",
    "\n",
    "    # check the first player to affect to each player the corresponding cards\n",
    "    if first_player == 'player':\n",
    "        player_cards = first_player_cards\n",
    "        CPU_cards = seconde_player_cards\n",
    "    else:\n",
    "        player_cards = seconde_player_cards\n",
    "        CPU_cards = first_player_cards\n",
    "\n",
    "    print(\"player cards are: \", player_cards)\n",
    "    print(\"CPU cards are: \", CPU_cards)\n",
    "    \n",
    "card_distribution('player')"
   ]
  },
  {
   "cell_type": "code",
   "execution_count": 25,
   "metadata": {},
   "outputs": [
    {
     "name": "stdout",
     "output_type": "stream",
     "text": [
      "good matching  ('Yellow', '4')\n",
      "remaining player cards are  [('Blue', '2'), ('Green', 'skip')]\n"
     ]
    },
    {
     "data": {
      "text/plain": [
       "('Yellow', '4')"
      ]
     },
     "execution_count": 25,
     "metadata": {},
     "output_type": "execute_result"
    }
   ],
   "source": [
    "def uno_game(discard_card,computer_turn_flag):\n",
    "     # the first round\n",
    "    if not discard_card:\n",
    "        # if player is playing so it will select draw card\n",
    "        if not computer_turn_flag:\n",
    "            print(\"your actual cards are: \",player_cards)\n",
    "            played_color= input(\"Please select the color of your played card: \")\n",
    "            played_value= input(\"Please select the value of your played card: \")\n",
    "            played_card =(played_color,played_value)\n",
    "            player_cards.remove(played_card)\n",
    "            print(played_card)\n",
    "            return played_card\n",
    "        # if computer is playing so it will randomly draw card from its cards\n",
    "        else:\n",
    "            CPU_played_card = random.choice(CPU_cards)\n",
    "            print(\"computer plays\", CPU_played_card)\n",
    "            CPU_cards.remove(CPU_played_card)\n",
    "            print(\"remaining CPU cards are \",CPU_cards)\n",
    "            return CPU_played_card\n",
    "\n",
    "    # there is alreadly a card in discard pile, so this turn depends on it\n",
    "    # check the kind of discard card to apply the action of specific cards\n",
    "    # CASE1: skip card\n",
    "    elif discard_card[1]=='skip':            \n",
    "        print('next player')\n",
    "\n",
    "    # CASE2: Draw2 card\n",
    "    elif discard_card[1]=='draw2':\n",
    "        # player \n",
    "        if not computer_turn_flag :\n",
    "            drawn_card1=random.choice(draw_pile)\n",
    "            player_cards.append(random.choice(draw_pile))\n",
    "            draw_pile.remove(drawn_card1)\n",
    "            \n",
    "            drawn_card2=random.choice(draw_pile)\n",
    "            player_cards.append(drawn_card2)\n",
    "            draw_pile.remove(drawn_card2)\n",
    "            \n",
    "            \n",
    "            print(\"player_cards\", player_cards)\n",
    "        \n",
    "        # CPU playing\n",
    "        else:\n",
    "            drawn_card1=random.choice(draw_pile)\n",
    "            CPU_cards.append(drawn_card1)\n",
    "            draw_pile.remove(drawn_card1)\n",
    "            \n",
    "            drawn_card2=random.choice(draw_pile)\n",
    "            CPU_cards.append(drawn_card2)\n",
    "            draw_pile.remove(drawn_card2)\n",
    "            \n",
    "            print(\"CPU_cards\", CPU_cards)\n",
    "        \n",
    "        print('draw 2 cards dear player!')\n",
    "        print('next player!')\n",
    "\n",
    "    #CASE3: standard card\n",
    "    else:\n",
    "        # player is  playing\n",
    "        if not computer_turn_flag :\n",
    "            j = 0\n",
    "            exist = False\n",
    "            # check for matching colors or values with discard card \n",
    "            while j<len(player_cards) and exist== False:\n",
    "                play_card = player_cards[j]\n",
    "                # CASE MATCHING player\n",
    "                if play_card[0]==discard_card[0] or play_card[1]==discard_card[1]:\n",
    "                    print(\"good matching \", play_card)\n",
    "                    exist = True\n",
    "                    player_cards.remove(play_card)\n",
    "                    print(\"remaining player cards are \",player_cards)\n",
    "                    return play_card\n",
    "                # CASE NO MATCHING player \n",
    "                else:\n",
    "                    j=j+1\n",
    "                \n",
    "                if j==len(player_cards):\n",
    "                    print('no matching player, it is the computer turn now!')\n",
    "                    drawn_card = random.choice(draw_pile)\n",
    "                    player_cards.append(drawn_card)\n",
    "                    draw_pile.remove(drawn_card)\n",
    "                    print(\"player_cards\", player_cards)\n",
    "                    return\n",
    "        # CPU is playing         \n",
    "        else:\n",
    "            for i in CPU_cards:\n",
    "                # CASE MATCHING\n",
    "                if (i[0]==discard_card[0])or (i[1]==discard_card[1]):\n",
    "                    print(\"good matching \", i)\n",
    "                    CPU_cards.remove(i)\n",
    "                    print(\"remaining CPU cards are \",CPU_cards)\n",
    "                    return i\n",
    "                # CASE NO MATCHING\n",
    "                else:\n",
    "                    print('no matching CPU, next player!')\n",
    "                    drawn_card = random.choice(draw_pile)\n",
    "                    CPU_cards.append(drawn_card)\n",
    "                    draw_pile.remove(drawn_card)\n",
    "                    print(\"CPU_cards\", CPU_cards)\n",
    "            return\n",
    "            \n",
    "        \n",
    "uno_game(('Yellow', '3'),False)"
   ]
  },
  {
   "cell_type": "code",
   "execution_count": null,
   "metadata": {},
   "outputs": [],
   "source": [
    "def check_winner(player_cards,computer_flag):\n",
    "    if len(player_cards)==0:\n",
    "        if computer_flag:\n",
    "            winner = 'computer'\n",
    "        else:\n",
    "            winners = 'player'\n",
    "    print(\"The winner is :\", winner)"
   ]
  },
  {
   "cell_type": "code",
   "execution_count": null,
   "metadata": {},
   "outputs": [],
   "source": []
  },
  {
   "cell_type": "code",
   "execution_count": null,
   "metadata": {},
   "outputs": [],
   "source": []
  }
 ],
 "metadata": {
  "kernelspec": {
   "display_name": "Python 3",
   "language": "python",
   "name": "python3"
  },
  "language_info": {
   "codemirror_mode": {
    "name": "ipython",
    "version": 3
   },
   "file_extension": ".py",
   "mimetype": "text/x-python",
   "name": "python",
   "nbconvert_exporter": "python",
   "pygments_lexer": "ipython3",
   "version": "3.7.6"
  }
 },
 "nbformat": 4,
 "nbformat_minor": 2
}
