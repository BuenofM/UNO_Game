{
 "cells": [
  {
   "cell_type": "code",
   "execution_count": 1,
   "metadata": {},
   "outputs": [],
   "source": [
    "import random"
   ]
  },
  {
   "cell_type": "code",
   "execution_count": 2,
   "metadata": {},
   "outputs": [],
   "source": [
    "players_cards = []\n",
    "CPU_cards = []\n",
    "Discard_pile = []"
   ]
  },
  {
   "cell_type": "code",
   "execution_count": 5,
   "metadata": {},
   "outputs": [
    {
     "data": {
      "text/plain": [
       "[('Red', '1'),\n",
       " ('Red', '2'),\n",
       " ('Red', '3'),\n",
       " ('Red', '4'),\n",
       " ('Red', '5'),\n",
       " ('Red', 'Draw2'),\n",
       " ('Red', 'Skip'),\n",
       " ('Blue', '1'),\n",
       " ('Blue', '2'),\n",
       " ('Blue', '3'),\n",
       " ('Blue', '4'),\n",
       " ('Blue', '5'),\n",
       " ('Blue', 'Draw2'),\n",
       " ('Blue', 'Skip'),\n",
       " ('Green', '1'),\n",
       " ('Green', '2'),\n",
       " ('Green', '3'),\n",
       " ('Green', '4'),\n",
       " ('Green', '5'),\n",
       " ('Green', 'Draw2'),\n",
       " ('Green', 'Skip'),\n",
       " ('Yellow', '1'),\n",
       " ('Yellow', '2'),\n",
       " ('Yellow', '3'),\n",
       " ('Yellow', '4'),\n",
       " ('Yellow', '5'),\n",
       " ('Yellow', 'Draw2'),\n",
       " ('Yellow', 'Skip')]"
      ]
     },
     "execution_count": 5,
     "metadata": {},
     "output_type": "execute_result"
    }
   ],
   "source": [
    "def init_deck():\n",
    "    colors = ['Red', 'Blue', 'Green', 'Yellow']\n",
    "    values = ['1', '2', '3', '4', '5', 'Draw2', 'Skip']\n",
    "    deck = []\n",
    "    draw_pile = []\n",
    "    for c in colors:\n",
    "        for v in values:\n",
    "            deck.append(tuple([c, v]))    \n",
    "    random.shuffle(deck)\n",
    "    return deck\n",
    "init_deck()"
   ]
  },
  {
   "cell_type": "code",
   "execution_count": 9,
   "metadata": {},
   "outputs": [
    {
     "data": {
      "text/plain": [
       "[('Blue', '5'), ('Blue', '2'), ('Red', '3'), ('Green', '2'), ('Red', '4')]"
      ]
     },
     "execution_count": 9,
     "metadata": {},
     "output_type": "execute_result"
    }
   ],
   "source": [
    "# update this function so that if we distribute cards to cpu we update deck then we distribute for the ohter player\n",
    "deck = init_deck()\n",
    "def card_distribution(deck): \n",
    "    players_cards = random.sample(deck, 5)\n",
    "    draw_pile=[]\n",
    "    for i in deck:\n",
    "        if i not in players_cards:\n",
    "            draw_pile.append(i)\n",
    "    # don't forget to update the deck after distribution\n",
    "    return players_cards\n",
    "\n",
    "card_distribution(deck)"
   ]
  },
  {
   "cell_type": "code",
   "execution_count": 10,
   "metadata": {},
   "outputs": [
    {
     "name": "stdout",
     "output_type": "stream",
     "text": [
      "CPU starts.\n"
     ]
    }
   ],
   "source": [
    "def first_player():\n",
    "    Players = ['CPU', 'Player']\n",
    "    print(random.choice(Players), \"starts.\")        \n",
    "\n",
    "first_player()"
   ]
  },
  {
   "cell_type": "code",
   "execution_count": 12,
   "metadata": {},
   "outputs": [
    {
     "name": "stdout",
     "output_type": "stream",
     "text": [
      "computer plays\n"
     ]
    },
    {
     "data": {
      "text/plain": [
       "('Blue', '1')"
      ]
     },
     "execution_count": 12,
     "metadata": {},
     "output_type": "execute_result"
    }
   ],
   "source": [
    "# returns the tuple presenting the played card\n",
    "players_cards=card_distribution(deck)\n",
    "\n",
    "# define the logic of uno game\n",
    "def UNO_game(discard_card,computer_flag):     \n",
    "     # this case for the first player\n",
    "    if not discard_card:\n",
    "        # if player is playing so it will select draw card\n",
    "        if not computer_flag:\n",
    "            print(\"your actual cards are: \",players_cards)\n",
    "            played_color= input(\"Please select the color of your played card: \")\n",
    "            played_value= input(\"Please select the value of your played card: \")\n",
    "            played_card =(played_color,played_value)\n",
    "            print(played_card)\n",
    "            return played_card\n",
    "        # if computer is playing so it will randomly draw card from its cards\n",
    "        else:\n",
    "            print(\"computer plays\")\n",
    "            return random.choice(players_cards)\n",
    "    \n",
    "    # there is alreadly a card in discard pile, so this turn depends on it\n",
    "    # check the kind of discard card to apply the action of specific cards\n",
    "    # CASE1: skip card\n",
    "    elif discard_card[1]=='skip':\n",
    "        print('computer_turn')\n",
    "    \n",
    "    # CASE2: Draw2 card\n",
    "    elif discard_card[1]=='draw2':\n",
    "        print('draw2 dear player')\n",
    "        print('computer turn')\n",
    "    \n",
    "    #CASE3: standard card\n",
    "    else:\n",
    "        # check for matching colors or values with discard card \n",
    "        for i in players_cards:\n",
    "            # CASE MATCHING\n",
    "            if i[0]==discard_card[0] or i[1]==discard_card[1]:\n",
    "                print(\"good matching \", i)\n",
    "                return i\n",
    "            # CASE NO MATCHING\n",
    "            else:\n",
    "                print('no matching, it is the computer turn now!')\n",
    "                return \n",
    "             \n",
    "        \n",
    "UNO_game('',True)\n"
   ]
  },
  {
   "cell_type": "code",
   "execution_count": 21,
   "metadata": {},
   "outputs": [
    {
     "name": "stdout",
     "output_type": "stream",
     "text": [
      "actual deck is\n"
     ]
    },
    {
     "data": {
      "text/plain": [
       "[('Red', '2'),\n",
       " ('Red', '3'),\n",
       " ('Red', '4'),\n",
       " ('Red', '5'),\n",
       " ('Red', 'Draw2'),\n",
       " ('Red', 'Skip'),\n",
       " ('Blue', '1'),\n",
       " ('Blue', '2'),\n",
       " ('Blue', '3'),\n",
       " ('Blue', '4'),\n",
       " ('Blue', '5'),\n",
       " ('Blue', 'Draw2'),\n",
       " ('Blue', 'Skip'),\n",
       " ('Green', '1'),\n",
       " ('Green', '2'),\n",
       " ('Green', '3'),\n",
       " ('Green', '4'),\n",
       " ('Green', '5'),\n",
       " ('Green', 'Draw2'),\n",
       " ('Green', 'Skip'),\n",
       " ('Yellow', '1'),\n",
       " ('Yellow', '2'),\n",
       " ('Yellow', '3'),\n",
       " ('Yellow', '4'),\n",
       " ('Yellow', '5'),\n",
       " ('Yellow', 'Draw2'),\n",
       " ('Yellow', 'Skip')]"
      ]
     },
     "execution_count": 21,
     "metadata": {},
     "output_type": "execute_result"
    }
   ],
   "source": [
    "def update_draw_pile(draw_pile,drawn_card):\n",
    "    # decrease the number of cards each time\n",
    "    print(\"actual deck is\")\n",
    "\n",
    "    # test wich case of update draw pile \n",
    "    # CASE1: through out the game\n",
    "    if drawn_card:\n",
    "        draw_pile.remove(drawn_card)\n",
    "    return draw_pile\n",
    "    \n",
    "deck = init_deck()\n",
    "update_draw_pile(deck,('Red', '1'))"
   ]
  },
  {
   "cell_type": "code",
   "execution_count": 42,
   "metadata": {},
   "outputs": [
    {
     "name": "stdout",
     "output_type": "stream",
     "text": [
      "The winner is : player\n"
     ]
    }
   ],
   "source": [
    "def check_winner(players_cards,computer_flag):\n",
    "    if len(players_cards)==0:\n",
    "        if computer_flag:\n",
    "            winner = 'computer'\n",
    "        else:\n",
    "            winner = 'player'\n",
    "    print(\"The winner is :\", winner)\n",
    "\n",
    "check_winner([],False)"
   ]
  },
  {
   "cell_type": "code",
   "execution_count": null,
   "metadata": {},
   "outputs": [],
   "source": [
    "# todo: define the main class that contains all functions "
   ]
  }
 ],
 "metadata": {
  "kernelspec": {
   "display_name": "Python 3",
   "language": "python",
   "name": "python3"
  },
  "language_info": {
   "codemirror_mode": {
    "name": "ipython",
    "version": 3
   },
   "file_extension": ".py",
   "mimetype": "text/x-python",
   "name": "python",
   "nbconvert_exporter": "python",
   "pygments_lexer": "ipython3",
   "version": "3.7.6"
  }
 },
 "nbformat": 4,
 "nbformat_minor": 2
}
