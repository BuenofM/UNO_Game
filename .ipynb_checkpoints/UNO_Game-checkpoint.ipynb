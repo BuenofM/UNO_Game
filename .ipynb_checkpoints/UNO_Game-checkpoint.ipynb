{
 "cells": [
  {
   "cell_type": "code",
   "execution_count": null,
   "metadata": {},
   "outputs": [],
   "source": [
    "#RULES\n",
    "#number of players: 2 (player and bot)\n",
    "#number of cards per player: 7\n",
    "#order of game: clockwise \n",
    "#possible plays: You have to match either by the number, color, or the symbol/Action\n",
    "\n",
    "#GAMEPLAY:\n",
    "#one at a time, each player plays a card or draws\n",
    "#if mathcing color/umber/symbol/action\n",
    "#   then play\n",
    "#if no match \n",
    "#   then draw\n",
    "#first player to have one card left is winner \n",
    "#if player says UNO\n",
    "#else playerY wins\n",
    "\n",
    "#CARDS\n",
    "#?? cards\n",
    "#7 red cards 1 to 5 + 1 draw2 + 1 skip\n",
    "#7 green cards 1 to 5 + 1 draw2 + 1 skip\n",
    "#7 yellow cards 1 to 5 + 1 draw2 + 1 skip\n",
    "#7 blue cards de 1 to 5 + 1 draw2 + 1 skip\n",
    "#4  Wild card ??\n",
    "\n",
    "\n",
    "#GAME LOGIC\n",
    "#if matching color/number/symbol/action:\n",
    "#    then play.\n",
    "#if no matching card:\n",
    "#    then they draw a card from the Draw pile.\n",
    "#         if still no match:\n",
    "#            then move to next player\n",
    "\n",
    "#plays:\n",
    "#if player plays wild card:\n",
    "#    then move to next player.   \n",
    "#if playerX plays skip card:\n",
    "#    then playerY miss his turn and playerX plays again.\n",
    "#if playerX plays draw 2:\n",
    "#   then playerY takes 2 cards and miss his turn.\n",
    "#if playerX plays wild card:\n",
    "#   then playersX declares the new color.\n",
    "\n",
    "\n",
    "\n",
    "#number of cards, distribution \n",
    "#begining\n",
    "#player input"
   ]
  },
  {
   "cell_type": "code",
   "execution_count": 7,
   "metadata": {},
   "outputs": [],
   "source": [
    "import random\n",
    "\n",
    "\n",
    "players_cards = []\n",
    "CPU_cards = []\n",
    "Discard_pile = []\n",
    "\n",
    "\n",
    "\n",
    "\n",
    "def CardDistribution():\n",
    "    colors = ['Red', 'Blue', 'Green', 'Yellow']\n",
    "    values = ['1', '2', '3', '4', '5', 'Draw2', 'Skip']\n",
    "    deck = []\n",
    "    draw_pile = []\n",
    "\n",
    "    for c in colors:\n",
    "        for v in values:\n",
    "            deck.append(tuple([c, v]))\n",
    "    \n",
    "    random.shuffle(deck) \n",
    "    \n",
    "    CPU_cards = random.sample(deck, 5)\n",
    "    players_cards = random.sample(deck, 5)\n",
    "    for i in deck:\n",
    "        if i not in players_cards and i not in CPU_cards:\n",
    "            draw_pile.append(i)\n",
    "    \n",
    "#     print(\"Cards have been shuffled and distributed.\")\n",
    "#     print()\n",
    "#     print(\"This is the CPUs deck:\")\n",
    "#     print(CPU_cards)\n",
    "#     print()\n",
    "#     print(\"These are the cards that are left\")\n",
    "#     print(draw_pile)\n",
    "#     print(len(draw_pile))\n",
    "#     print()\n",
    "#     print(\"This is the players deck:\")\n",
    "    return players_cards"
   ]
  },
  {
   "cell_type": "code",
   "execution_count": 8,
   "metadata": {},
   "outputs": [
    {
     "data": {
      "text/plain": [
       "[('Green', '1'),\n",
       " ('Blue', 'Draw2'),\n",
       " ('Blue', '1'),\n",
       " ('Yellow', '3'),\n",
       " ('Red', '4')]"
      ]
     },
     "execution_count": 8,
     "metadata": {},
     "output_type": "execute_result"
    }
   ],
   "source": [
    "CardDistribution()"
   ]
  },
  {
   "cell_type": "code",
   "execution_count": 9,
   "metadata": {},
   "outputs": [
    {
     "name": "stdout",
     "output_type": "stream",
     "text": [
      "CPU starts.\n"
     ]
    }
   ],
   "source": [
    "def first_player():\n",
    "    Players = ['CPU', 'Player']\n",
    "    print(random.choice(Players), \"starts.\")        \n",
    "\n",
    "first_player()"
   ]
  },
  {
   "cell_type": "code",
   "execution_count": 13,
   "metadata": {},
   "outputs": [
    {
     "name": "stdout",
     "output_type": "stream",
     "text": [
      "computer plays\n"
     ]
    },
    {
     "data": {
      "text/plain": [
       "('Yellow', '3')"
      ]
     },
     "execution_count": 13,
     "metadata": {},
     "output_type": "execute_result"
    }
   ],
   "source": [
    "# returns the tuple presenting the played card\n",
    "players_cards=CardDistribution()\n",
    "\n",
    "# define the logic of uno game\n",
    "def UNO_game(discard_card,computer_flag):     \n",
    "     # this case for the first player\n",
    "    if not discard_card:\n",
    "        # if player is playing so it will select draw card\n",
    "        if not computer_flag:\n",
    "            print(\"your actual cards are: \",players_cards)\n",
    "            played_color= input(\"Please select the color of your played card: \")\n",
    "            played_value= input(\"Please select the value of your played card: \")\n",
    "            played_card =(played_color,played_value)\n",
    "            print(played_card)\n",
    "            return played_card\n",
    "        # if computer is playing so it will randomly draw card from its cards\n",
    "        else:\n",
    "            print(\"computer plays\")\n",
    "            return random.choice(players_cards)\n",
    "    \n",
    "    # there is alreadly a card in discard pile, so this turn depends on it\n",
    "    # check the kind of discard card to apply the action of specific cards\n",
    "    # CASE1: skip card\n",
    "    elif discard_card[1]=='skip':\n",
    "        print('computer_turn')\n",
    "    \n",
    "    # CASE2: Draw2 card\n",
    "    elif discard_card[1]=='draw2':\n",
    "        print('draw2 dear player')\n",
    "        print('computer turn')\n",
    "    \n",
    "    #CASE3: standard card\n",
    "    else:\n",
    "        # check for matching colors or values with discard card \n",
    "        for i in players_cards:\n",
    "            # CASE MATCHING\n",
    "            if i[0]==discard_card[0] or i[1]==discard_card[1]:\n",
    "                print(\"good matching \", i)\n",
    "                return i\n",
    "            # CASE NO MATCHING\n",
    "            else:\n",
    "                print('no matching, it is the computer turn now!')\n",
    "                return \n",
    "             \n",
    "        \n",
    "UNO_game('',True)\n"
   ]
  },
  {
   "cell_type": "code",
   "execution_count": null,
   "metadata": {},
   "outputs": [],
   "source": []
  }
 ],
 "metadata": {
  "kernelspec": {
   "display_name": "Python 3",
   "language": "python",
   "name": "python3"
  },
  "language_info": {
   "codemirror_mode": {
    "name": "ipython",
    "version": 3
   },
   "file_extension": ".py",
   "mimetype": "text/x-python",
   "name": "python",
   "nbconvert_exporter": "python",
   "pygments_lexer": "ipython3",
   "version": "3.7.6"
  }
 },
 "nbformat": 4,
 "nbformat_minor": 2
}
